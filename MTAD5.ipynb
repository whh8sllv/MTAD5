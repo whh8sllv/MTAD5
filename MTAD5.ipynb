{
  "nbformat": 4,
  "nbformat_minor": 0,
  "metadata": {
    "colab": {
      "provenance": []
    },
    "kernelspec": {
      "name": "python3",
      "display_name": "Python 3"
    },
    "language_info": {
      "name": "python"
    }
  },
  "cells": [
    {
      "cell_type": "markdown",
      "source": [
        "Імпортуємо всі необхідні бібліотеки, датасет, з якого оберемо змінні attr_index_norm та rest_index_norm для класифікації, а також визначаємо кластери, аналогічно до попереднього домашнього завдання"
      ],
      "metadata": {
        "id": "FQ_ANNg7D-nc"
      }
    },
    {
      "cell_type": "code",
      "execution_count": 14,
      "metadata": {
        "id": "jDWqBuUpCelq"
      },
      "outputs": [],
      "source": [
        "import pandas as pd\n",
        "import numpy as np\n",
        "import matplotlib.pyplot as plt\n",
        "from sklearn.model_selection import train_test_split, cross_val_score\n",
        "from sklearn.neighbors import KNeighborsClassifier\n",
        "from sklearn.metrics import accuracy_score"
      ]
    },
    {
      "cell_type": "code",
      "source": [
        "df = pd.read_csv('airbnb_london_clean.csv')\n",
        "df.head()"
      ],
      "metadata": {
        "colab": {
          "base_uri": "https://localhost:8080/",
          "height": 313
        },
        "id": "nmVtnG2aCmf8",
        "outputId": "88a942ae-4128-4da5-98f2-518d06c24be3"
      },
      "execution_count": null,
      "outputs": [
        {
          "output_type": "execute_result",
          "data": {
            "text/plain": [
              "      realSum        room_type  room_shared  room_private  person_capacity  \\\n",
              "0  121.122322     Private room        False          True              2.0   \n",
              "1  195.912416     Private room        False          True              2.0   \n",
              "2  193.325337     Private room        False          True              3.0   \n",
              "3  180.389943     Private room        False          True              2.0   \n",
              "4  405.700981  Entire home/apt        False         False              3.0   \n",
              "\n",
              "   host_is_superhost  multi  biz  cleanliness_rating  \\\n",
              "0              False      0    0                 6.0   \n",
              "1              False      1    0                10.0   \n",
              "2              False      1    0                10.0   \n",
              "3              False      1    0                 9.0   \n",
              "4              False      0    1                 7.0   \n",
              "\n",
              "   guest_satisfaction_overall  bedrooms      dist  metro_dist  attr_index  \\\n",
              "0                        69.0         1  5.734117    0.437094  222.882243   \n",
              "1                        96.0         1  4.788905    1.464050  235.385841   \n",
              "2                        95.0         1  4.596677    0.450306  268.913812   \n",
              "3                        87.0         1  2.054769    0.132670  472.381314   \n",
              "4                        65.0         0  4.491277    0.354108  318.491470   \n",
              "\n",
              "   attr_index_norm   rest_index  rest_index_norm      lng       lat  \n",
              "0        15.493414   470.088502         8.413765 -0.04975  51.52570  \n",
              "1        16.362588   530.133525         9.488466 -0.08475  51.54210  \n",
              "2        18.693247   548.987610         9.825922 -0.14585  51.54802  \n",
              "3        32.837067  1021.271062        18.278973 -0.10611  51.52108  \n",
              "4        22.139584   692.775411        12.399473 -0.18797  51.49399  "
            ],
            "text/html": [
              "\n",
              "  <div id=\"df-f4c7bdd6-a5c0-4f19-8c5c-41068e4c3f2e\" class=\"colab-df-container\">\n",
              "    <div>\n",
              "<style scoped>\n",
              "    .dataframe tbody tr th:only-of-type {\n",
              "        vertical-align: middle;\n",
              "    }\n",
              "\n",
              "    .dataframe tbody tr th {\n",
              "        vertical-align: top;\n",
              "    }\n",
              "\n",
              "    .dataframe thead th {\n",
              "        text-align: right;\n",
              "    }\n",
              "</style>\n",
              "<table border=\"1\" class=\"dataframe\">\n",
              "  <thead>\n",
              "    <tr style=\"text-align: right;\">\n",
              "      <th></th>\n",
              "      <th>realSum</th>\n",
              "      <th>room_type</th>\n",
              "      <th>room_shared</th>\n",
              "      <th>room_private</th>\n",
              "      <th>person_capacity</th>\n",
              "      <th>host_is_superhost</th>\n",
              "      <th>multi</th>\n",
              "      <th>biz</th>\n",
              "      <th>cleanliness_rating</th>\n",
              "      <th>guest_satisfaction_overall</th>\n",
              "      <th>bedrooms</th>\n",
              "      <th>dist</th>\n",
              "      <th>metro_dist</th>\n",
              "      <th>attr_index</th>\n",
              "      <th>attr_index_norm</th>\n",
              "      <th>rest_index</th>\n",
              "      <th>rest_index_norm</th>\n",
              "      <th>lng</th>\n",
              "      <th>lat</th>\n",
              "    </tr>\n",
              "  </thead>\n",
              "  <tbody>\n",
              "    <tr>\n",
              "      <th>0</th>\n",
              "      <td>121.122322</td>\n",
              "      <td>Private room</td>\n",
              "      <td>False</td>\n",
              "      <td>True</td>\n",
              "      <td>2.0</td>\n",
              "      <td>False</td>\n",
              "      <td>0</td>\n",
              "      <td>0</td>\n",
              "      <td>6.0</td>\n",
              "      <td>69.0</td>\n",
              "      <td>1</td>\n",
              "      <td>5.734117</td>\n",
              "      <td>0.437094</td>\n",
              "      <td>222.882243</td>\n",
              "      <td>15.493414</td>\n",
              "      <td>470.088502</td>\n",
              "      <td>8.413765</td>\n",
              "      <td>-0.04975</td>\n",
              "      <td>51.52570</td>\n",
              "    </tr>\n",
              "    <tr>\n",
              "      <th>1</th>\n",
              "      <td>195.912416</td>\n",
              "      <td>Private room</td>\n",
              "      <td>False</td>\n",
              "      <td>True</td>\n",
              "      <td>2.0</td>\n",
              "      <td>False</td>\n",
              "      <td>1</td>\n",
              "      <td>0</td>\n",
              "      <td>10.0</td>\n",
              "      <td>96.0</td>\n",
              "      <td>1</td>\n",
              "      <td>4.788905</td>\n",
              "      <td>1.464050</td>\n",
              "      <td>235.385841</td>\n",
              "      <td>16.362588</td>\n",
              "      <td>530.133525</td>\n",
              "      <td>9.488466</td>\n",
              "      <td>-0.08475</td>\n",
              "      <td>51.54210</td>\n",
              "    </tr>\n",
              "    <tr>\n",
              "      <th>2</th>\n",
              "      <td>193.325337</td>\n",
              "      <td>Private room</td>\n",
              "      <td>False</td>\n",
              "      <td>True</td>\n",
              "      <td>3.0</td>\n",
              "      <td>False</td>\n",
              "      <td>1</td>\n",
              "      <td>0</td>\n",
              "      <td>10.0</td>\n",
              "      <td>95.0</td>\n",
              "      <td>1</td>\n",
              "      <td>4.596677</td>\n",
              "      <td>0.450306</td>\n",
              "      <td>268.913812</td>\n",
              "      <td>18.693247</td>\n",
              "      <td>548.987610</td>\n",
              "      <td>9.825922</td>\n",
              "      <td>-0.14585</td>\n",
              "      <td>51.54802</td>\n",
              "    </tr>\n",
              "    <tr>\n",
              "      <th>3</th>\n",
              "      <td>180.389943</td>\n",
              "      <td>Private room</td>\n",
              "      <td>False</td>\n",
              "      <td>True</td>\n",
              "      <td>2.0</td>\n",
              "      <td>False</td>\n",
              "      <td>1</td>\n",
              "      <td>0</td>\n",
              "      <td>9.0</td>\n",
              "      <td>87.0</td>\n",
              "      <td>1</td>\n",
              "      <td>2.054769</td>\n",
              "      <td>0.132670</td>\n",
              "      <td>472.381314</td>\n",
              "      <td>32.837067</td>\n",
              "      <td>1021.271062</td>\n",
              "      <td>18.278973</td>\n",
              "      <td>-0.10611</td>\n",
              "      <td>51.52108</td>\n",
              "    </tr>\n",
              "    <tr>\n",
              "      <th>4</th>\n",
              "      <td>405.700981</td>\n",
              "      <td>Entire home/apt</td>\n",
              "      <td>False</td>\n",
              "      <td>False</td>\n",
              "      <td>3.0</td>\n",
              "      <td>False</td>\n",
              "      <td>0</td>\n",
              "      <td>1</td>\n",
              "      <td>7.0</td>\n",
              "      <td>65.0</td>\n",
              "      <td>0</td>\n",
              "      <td>4.491277</td>\n",
              "      <td>0.354108</td>\n",
              "      <td>318.491470</td>\n",
              "      <td>22.139584</td>\n",
              "      <td>692.775411</td>\n",
              "      <td>12.399473</td>\n",
              "      <td>-0.18797</td>\n",
              "      <td>51.49399</td>\n",
              "    </tr>\n",
              "  </tbody>\n",
              "</table>\n",
              "</div>\n",
              "    <div class=\"colab-df-buttons\">\n",
              "\n",
              "  <div class=\"colab-df-container\">\n",
              "    <button class=\"colab-df-convert\" onclick=\"convertToInteractive('df-f4c7bdd6-a5c0-4f19-8c5c-41068e4c3f2e')\"\n",
              "            title=\"Convert this dataframe to an interactive table.\"\n",
              "            style=\"display:none;\">\n",
              "\n",
              "  <svg xmlns=\"http://www.w3.org/2000/svg\" height=\"24px\" viewBox=\"0 -960 960 960\">\n",
              "    <path d=\"M120-120v-720h720v720H120Zm60-500h600v-160H180v160Zm220 220h160v-160H400v160Zm0 220h160v-160H400v160ZM180-400h160v-160H180v160Zm440 0h160v-160H620v160ZM180-180h160v-160H180v160Zm440 0h160v-160H620v160Z\"/>\n",
              "  </svg>\n",
              "    </button>\n",
              "\n",
              "  <style>\n",
              "    .colab-df-container {\n",
              "      display:flex;\n",
              "      gap: 12px;\n",
              "    }\n",
              "\n",
              "    .colab-df-convert {\n",
              "      background-color: #E8F0FE;\n",
              "      border: none;\n",
              "      border-radius: 50%;\n",
              "      cursor: pointer;\n",
              "      display: none;\n",
              "      fill: #1967D2;\n",
              "      height: 32px;\n",
              "      padding: 0 0 0 0;\n",
              "      width: 32px;\n",
              "    }\n",
              "\n",
              "    .colab-df-convert:hover {\n",
              "      background-color: #E2EBFA;\n",
              "      box-shadow: 0px 1px 2px rgba(60, 64, 67, 0.3), 0px 1px 3px 1px rgba(60, 64, 67, 0.15);\n",
              "      fill: #174EA6;\n",
              "    }\n",
              "\n",
              "    .colab-df-buttons div {\n",
              "      margin-bottom: 4px;\n",
              "    }\n",
              "\n",
              "    [theme=dark] .colab-df-convert {\n",
              "      background-color: #3B4455;\n",
              "      fill: #D2E3FC;\n",
              "    }\n",
              "\n",
              "    [theme=dark] .colab-df-convert:hover {\n",
              "      background-color: #434B5C;\n",
              "      box-shadow: 0px 1px 3px 1px rgba(0, 0, 0, 0.15);\n",
              "      filter: drop-shadow(0px 1px 2px rgba(0, 0, 0, 0.3));\n",
              "      fill: #FFFFFF;\n",
              "    }\n",
              "  </style>\n",
              "\n",
              "    <script>\n",
              "      const buttonEl =\n",
              "        document.querySelector('#df-f4c7bdd6-a5c0-4f19-8c5c-41068e4c3f2e button.colab-df-convert');\n",
              "      buttonEl.style.display =\n",
              "        google.colab.kernel.accessAllowed ? 'block' : 'none';\n",
              "\n",
              "      async function convertToInteractive(key) {\n",
              "        const element = document.querySelector('#df-f4c7bdd6-a5c0-4f19-8c5c-41068e4c3f2e');\n",
              "        const dataTable =\n",
              "          await google.colab.kernel.invokeFunction('convertToInteractive',\n",
              "                                                    [key], {});\n",
              "        if (!dataTable) return;\n",
              "\n",
              "        const docLinkHtml = 'Like what you see? Visit the ' +\n",
              "          '<a target=\"_blank\" href=https://colab.research.google.com/notebooks/data_table.ipynb>data table notebook</a>'\n",
              "          + ' to learn more about interactive tables.';\n",
              "        element.innerHTML = '';\n",
              "        dataTable['output_type'] = 'display_data';\n",
              "        await google.colab.output.renderOutput(dataTable, element);\n",
              "        const docLink = document.createElement('div');\n",
              "        docLink.innerHTML = docLinkHtml;\n",
              "        element.appendChild(docLink);\n",
              "      }\n",
              "    </script>\n",
              "  </div>\n",
              "\n",
              "\n",
              "<div id=\"df-a6854fc2-da07-47a5-acd2-a4c5bcd7721e\">\n",
              "  <button class=\"colab-df-quickchart\" onclick=\"quickchart('df-a6854fc2-da07-47a5-acd2-a4c5bcd7721e')\"\n",
              "            title=\"Suggest charts\"\n",
              "            style=\"display:none;\">\n",
              "\n",
              "<svg xmlns=\"http://www.w3.org/2000/svg\" height=\"24px\"viewBox=\"0 0 24 24\"\n",
              "     width=\"24px\">\n",
              "    <g>\n",
              "        <path d=\"M19 3H5c-1.1 0-2 .9-2 2v14c0 1.1.9 2 2 2h14c1.1 0 2-.9 2-2V5c0-1.1-.9-2-2-2zM9 17H7v-7h2v7zm4 0h-2V7h2v10zm4 0h-2v-4h2v4z\"/>\n",
              "    </g>\n",
              "</svg>\n",
              "  </button>\n",
              "\n",
              "<style>\n",
              "  .colab-df-quickchart {\n",
              "      --bg-color: #E8F0FE;\n",
              "      --fill-color: #1967D2;\n",
              "      --hover-bg-color: #E2EBFA;\n",
              "      --hover-fill-color: #174EA6;\n",
              "      --disabled-fill-color: #AAA;\n",
              "      --disabled-bg-color: #DDD;\n",
              "  }\n",
              "\n",
              "  [theme=dark] .colab-df-quickchart {\n",
              "      --bg-color: #3B4455;\n",
              "      --fill-color: #D2E3FC;\n",
              "      --hover-bg-color: #434B5C;\n",
              "      --hover-fill-color: #FFFFFF;\n",
              "      --disabled-bg-color: #3B4455;\n",
              "      --disabled-fill-color: #666;\n",
              "  }\n",
              "\n",
              "  .colab-df-quickchart {\n",
              "    background-color: var(--bg-color);\n",
              "    border: none;\n",
              "    border-radius: 50%;\n",
              "    cursor: pointer;\n",
              "    display: none;\n",
              "    fill: var(--fill-color);\n",
              "    height: 32px;\n",
              "    padding: 0;\n",
              "    width: 32px;\n",
              "  }\n",
              "\n",
              "  .colab-df-quickchart:hover {\n",
              "    background-color: var(--hover-bg-color);\n",
              "    box-shadow: 0 1px 2px rgba(60, 64, 67, 0.3), 0 1px 3px 1px rgba(60, 64, 67, 0.15);\n",
              "    fill: var(--button-hover-fill-color);\n",
              "  }\n",
              "\n",
              "  .colab-df-quickchart-complete:disabled,\n",
              "  .colab-df-quickchart-complete:disabled:hover {\n",
              "    background-color: var(--disabled-bg-color);\n",
              "    fill: var(--disabled-fill-color);\n",
              "    box-shadow: none;\n",
              "  }\n",
              "\n",
              "  .colab-df-spinner {\n",
              "    border: 2px solid var(--fill-color);\n",
              "    border-color: transparent;\n",
              "    border-bottom-color: var(--fill-color);\n",
              "    animation:\n",
              "      spin 1s steps(1) infinite;\n",
              "  }\n",
              "\n",
              "  @keyframes spin {\n",
              "    0% {\n",
              "      border-color: transparent;\n",
              "      border-bottom-color: var(--fill-color);\n",
              "      border-left-color: var(--fill-color);\n",
              "    }\n",
              "    20% {\n",
              "      border-color: transparent;\n",
              "      border-left-color: var(--fill-color);\n",
              "      border-top-color: var(--fill-color);\n",
              "    }\n",
              "    30% {\n",
              "      border-color: transparent;\n",
              "      border-left-color: var(--fill-color);\n",
              "      border-top-color: var(--fill-color);\n",
              "      border-right-color: var(--fill-color);\n",
              "    }\n",
              "    40% {\n",
              "      border-color: transparent;\n",
              "      border-right-color: var(--fill-color);\n",
              "      border-top-color: var(--fill-color);\n",
              "    }\n",
              "    60% {\n",
              "      border-color: transparent;\n",
              "      border-right-color: var(--fill-color);\n",
              "    }\n",
              "    80% {\n",
              "      border-color: transparent;\n",
              "      border-right-color: var(--fill-color);\n",
              "      border-bottom-color: var(--fill-color);\n",
              "    }\n",
              "    90% {\n",
              "      border-color: transparent;\n",
              "      border-bottom-color: var(--fill-color);\n",
              "    }\n",
              "  }\n",
              "</style>\n",
              "\n",
              "  <script>\n",
              "    async function quickchart(key) {\n",
              "      const quickchartButtonEl =\n",
              "        document.querySelector('#' + key + ' button');\n",
              "      quickchartButtonEl.disabled = true;  // To prevent multiple clicks.\n",
              "      quickchartButtonEl.classList.add('colab-df-spinner');\n",
              "      try {\n",
              "        const charts = await google.colab.kernel.invokeFunction(\n",
              "            'suggestCharts', [key], {});\n",
              "      } catch (error) {\n",
              "        console.error('Error during call to suggestCharts:', error);\n",
              "      }\n",
              "      quickchartButtonEl.classList.remove('colab-df-spinner');\n",
              "      quickchartButtonEl.classList.add('colab-df-quickchart-complete');\n",
              "    }\n",
              "    (() => {\n",
              "      let quickchartButtonEl =\n",
              "        document.querySelector('#df-a6854fc2-da07-47a5-acd2-a4c5bcd7721e button');\n",
              "      quickchartButtonEl.style.display =\n",
              "        google.colab.kernel.accessAllowed ? 'block' : 'none';\n",
              "    })();\n",
              "  </script>\n",
              "</div>\n",
              "    </div>\n",
              "  </div>\n"
            ],
            "application/vnd.google.colaboratory.intrinsic+json": {
              "type": "dataframe",
              "variable_name": "df",
              "summary": "{\n  \"name\": \"df\",\n  \"rows\": 5375,\n  \"fields\": [\n    {\n      \"column\": \"realSum\",\n      \"properties\": {\n        \"dtype\": \"number\",\n        \"std\": 327.8945268347029,\n        \"min\": 54.32865307274395,\n        \"max\": 7759.354641454409,\n        \"num_unique_values\": 1602,\n        \"samples\": [\n          650.767892001223,\n          181.09551024247983,\n          307.8623674122157\n        ],\n        \"semantic_type\": \"\",\n        \"description\": \"\"\n      }\n    },\n    {\n      \"column\": \"room_type\",\n      \"properties\": {\n        \"dtype\": \"category\",\n        \"num_unique_values\": 3,\n        \"samples\": [\n          \"Private room\",\n          \"Entire home/apt\",\n          \"Shared room\"\n        ],\n        \"semantic_type\": \"\",\n        \"description\": \"\"\n      }\n    },\n    {\n      \"column\": \"room_shared\",\n      \"properties\": {\n        \"dtype\": \"boolean\",\n        \"num_unique_values\": 2,\n        \"samples\": [\n          true,\n          false\n        ],\n        \"semantic_type\": \"\",\n        \"description\": \"\"\n      }\n    },\n    {\n      \"column\": \"room_private\",\n      \"properties\": {\n        \"dtype\": \"boolean\",\n        \"num_unique_values\": 2,\n        \"samples\": [\n          false,\n          true\n        ],\n        \"semantic_type\": \"\",\n        \"description\": \"\"\n      }\n    },\n    {\n      \"column\": \"person_capacity\",\n      \"properties\": {\n        \"dtype\": \"number\",\n        \"std\": 1.2506347770702724,\n        \"min\": 2.0,\n        \"max\": 6.0,\n        \"num_unique_values\": 5,\n        \"samples\": [\n          3.0,\n          5.0\n        ],\n        \"semantic_type\": \"\",\n        \"description\": \"\"\n      }\n    },\n    {\n      \"column\": \"host_is_superhost\",\n      \"properties\": {\n        \"dtype\": \"boolean\",\n        \"num_unique_values\": 2,\n        \"samples\": [\n          true,\n          false\n        ],\n        \"semantic_type\": \"\",\n        \"description\": \"\"\n      }\n    },\n    {\n      \"column\": \"multi\",\n      \"properties\": {\n        \"dtype\": \"number\",\n        \"std\": 0,\n        \"min\": 0,\n        \"max\": 1,\n        \"num_unique_values\": 2,\n        \"samples\": [\n          1,\n          0\n        ],\n        \"semantic_type\": \"\",\n        \"description\": \"\"\n      }\n    },\n    {\n      \"column\": \"biz\",\n      \"properties\": {\n        \"dtype\": \"number\",\n        \"std\": 0,\n        \"min\": 0,\n        \"max\": 1,\n        \"num_unique_values\": 2,\n        \"samples\": [\n          1,\n          0\n        ],\n        \"semantic_type\": \"\",\n        \"description\": \"\"\n      }\n    },\n    {\n      \"column\": \"cleanliness_rating\",\n      \"properties\": {\n        \"dtype\": \"number\",\n        \"std\": 1.1511901058772458,\n        \"min\": 2.0,\n        \"max\": 10.0,\n        \"num_unique_values\": 9,\n        \"samples\": [\n          2.0,\n          10.0\n        ],\n        \"semantic_type\": \"\",\n        \"description\": \"\"\n      }\n    },\n    {\n      \"column\": \"guest_satisfaction_overall\",\n      \"properties\": {\n        \"dtype\": \"number\",\n        \"std\": 11.292335412958838,\n        \"min\": 20.0,\n        \"max\": 100.0,\n        \"num_unique_values\": 48,\n        \"samples\": [\n          75.0,\n          30.0\n        ],\n        \"semantic_type\": \"\",\n        \"description\": \"\"\n      }\n    },\n    {\n      \"column\": \"bedrooms\",\n      \"properties\": {\n        \"dtype\": \"number\",\n        \"std\": 0,\n        \"min\": 0,\n        \"max\": 8,\n        \"num_unique_values\": 7,\n        \"samples\": [\n          1,\n          0\n        ],\n        \"semantic_type\": \"\",\n        \"description\": \"\"\n      }\n    },\n    {\n      \"column\": \"dist\",\n      \"properties\": {\n        \"dtype\": \"number\",\n        \"std\": 2.7059242638591905,\n        \"min\": 0.0405605864099366,\n        \"max\": 17.321198633976167,\n        \"num_unique_values\": 5375,\n        \"samples\": [\n          11.090251661995522,\n          6.171470353960365\n        ],\n        \"semantic_type\": \"\",\n        \"description\": \"\"\n      }\n    },\n    {\n      \"column\": \"metro_dist\",\n      \"properties\": {\n        \"dtype\": \"number\",\n        \"std\": 1.2655648413475231,\n        \"min\": 0.013874542717631,\n        \"max\": 9.17409389172755,\n        \"num_unique_values\": 5375,\n        \"samples\": [\n          2.5821600039956323,\n          1.3655688324109696\n        ],\n        \"semantic_type\": \"\",\n        \"description\": \"\"\n      }\n    },\n    {\n      \"column\": \"attr_index\",\n      \"properties\": {\n        \"dtype\": \"number\",\n        \"std\": 170.3350471938912,\n        \"min\": 68.74051814089769,\n        \"max\": 1438.5612359572422,\n        \"num_unique_values\": 5375,\n        \"samples\": [\n          117.30696702792768,\n          183.738826946302\n        ],\n        \"semantic_type\": \"\",\n        \"description\": \"\"\n      }\n    },\n    {\n      \"column\": \"attr_index_norm\",\n      \"properties\": {\n        \"dtype\": \"number\",\n        \"std\": 11.840653212134377,\n        \"min\": 4.778421413194596,\n        \"max\": 100.0,\n        \"num_unique_values\": 5375,\n        \"samples\": [\n          8.154464620330861,\n          12.772402199760313\n        ],\n        \"semantic_type\": \"\",\n        \"description\": \"\"\n      }\n    },\n    {\n      \"column\": \"rest_index\",\n      \"properties\": {\n        \"dtype\": \"number\",\n        \"std\": 382.3922965234121,\n        \"min\": 140.52172233197155,\n        \"max\": 3894.7823814973,\n        \"num_unique_values\": 5375,\n        \"samples\": [\n          233.4011598528417,\n          404.6233819930385\n        ],\n        \"semantic_type\": \"\",\n        \"description\": \"\"\n      }\n    },\n    {\n      \"column\": \"rest_index_norm\",\n      \"properties\": {\n        \"dtype\": \"number\",\n        \"std\": 6.844155813177778,\n        \"min\": 2.515093979455293,\n        \"max\": 69.70981821480049,\n        \"num_unique_values\": 5375,\n        \"samples\": [\n          4.177474074484813,\n          7.2420535068120975\n        ],\n        \"semantic_type\": \"\",\n        \"description\": \"\"\n      }\n    },\n    {\n      \"column\": \"lng\",\n      \"properties\": {\n        \"dtype\": \"number\",\n        \"std\": 0.0675314569043835,\n        \"min\": -0.2517,\n        \"max\": 0.12018,\n        \"num_unique_values\": 4547,\n        \"samples\": [\n          -0.1957799999999999,\n          -0.06761\n        ],\n        \"semantic_type\": \"\",\n        \"description\": \"\"\n      }\n    },\n    {\n      \"column\": \"lat\",\n      \"properties\": {\n        \"dtype\": \"number\",\n        \"std\": 0.0319745778728708,\n        \"min\": 51.4144,\n        \"max\": 51.57582,\n        \"num_unique_values\": 4014,\n        \"samples\": [\n          51.55149,\n          51.44572\n        ],\n        \"semantic_type\": \"\",\n        \"description\": \"\"\n      }\n    }\n  ]\n}"
            }
          },
          "metadata": {},
          "execution_count": 4
        }
      ]
    },
    {
      "cell_type": "code",
      "source": [
        "X = df.iloc[:, [14, 16]].values"
      ],
      "metadata": {
        "id": "u5UoqyP3dR2L"
      },
      "execution_count": 8,
      "outputs": []
    },
    {
      "cell_type": "code",
      "source": [
        "from sklearn.cluster import AgglomerativeClustering\n",
        "hc = AgglomerativeClustering(n_clusters = 3, metric = 'euclidean', linkage = 'ward')\n",
        "y_hc = hc.fit_predict(X)\n",
        "\n",
        "df['Cluster'] = y_hc\n",
        "cluster_counts = df['Cluster'].value_counts().sort_index()\n",
        "\n",
        "\n",
        "cluster_counts = df['Cluster'].value_counts().sort_values(ascending=False)\n",
        "largest_clusters = cluster_counts.index[:2]\n",
        "\n",
        "\n",
        "X = df[df['Cluster'].isin(largest_clusters)].copy()\n",
        "Y = X['Cluster']\n",
        "X = X[['attr_index_norm', 'rest_index_norm']]"
      ],
      "metadata": {
        "id": "IXUYa2GyC6ou"
      },
      "execution_count": 9,
      "outputs": []
    },
    {
      "cell_type": "markdown",
      "source": [
        "Розділимо нашу вибірку на тренувальну та тестову"
      ],
      "metadata": {
        "id": "tWzD8DWyEL01"
      }
    },
    {
      "cell_type": "code",
      "source": [
        "X_train, X_test, y_train, y_test = train_test_split(X, Y, test_size=0.3, random_state=42)"
      ],
      "metadata": {
        "id": "fPl4AkmpDUGV"
      },
      "execution_count": 10,
      "outputs": []
    },
    {
      "cell_type": "markdown",
      "source": [
        "Розрахуємо оптимальну кількість k, щоб точність була не нижче 85%"
      ],
      "metadata": {
        "id": "I84S3daCEPJC"
      }
    },
    {
      "cell_type": "code",
      "source": [
        "best_k = None\n",
        "for k in range(1, 21):\n",
        "    knn = KNeighborsClassifier(n_neighbors=k)\n",
        "    knn.fit(X_train, y_train)\n",
        "    y_pred = knn.predict(X_test)\n",
        "    accuracy = accuracy_score(y_test, y_pred)\n",
        "    if accuracy >= 0.85:\n",
        "        best_k = k\n",
        "        break\n",
        "print(f'Найбільш оптимальним варіантом є k={best_k}')"
      ],
      "metadata": {
        "colab": {
          "base_uri": "https://localhost:8080/"
        },
        "id": "yVpetJGvDYOb",
        "outputId": "77069b63-8adf-4d21-983a-284e82ba6256"
      },
      "execution_count": 11,
      "outputs": [
        {
          "output_type": "stream",
          "name": "stdout",
          "text": [
            "Найбільш оптимальним варіантом є k=1\n"
          ]
        }
      ]
    },
    {
      "cell_type": "markdown",
      "source": [
        "Порахуємо точність для тестової вибірки"
      ],
      "metadata": {
        "id": "EGyMLZgvEem2"
      }
    },
    {
      "cell_type": "code",
      "source": [
        "knn = KNeighborsClassifier(n_neighbors=best_k)\n",
        "knn.fit(X_train, y_train)\n",
        "y_pred = knn.predict(X_test)\n",
        "test_accuracy = accuracy_score(y_test, y_pred)\n",
        "print(f\"Точність на тестовій виборці = {test_accuracy:.2f}\")"
      ],
      "metadata": {
        "colab": {
          "base_uri": "https://localhost:8080/"
        },
        "id": "vvdEVjhjDazt",
        "outputId": "c2439f66-2382-4056-9110-52d6f9a1ca4e"
      },
      "execution_count": 12,
      "outputs": [
        {
          "output_type": "stream",
          "name": "stdout",
          "text": [
            "Точність на тестовій виборці = 1.00\n"
          ]
        }
      ]
    },
    {
      "cell_type": "code",
      "source": [
        "k_values = range(1, 21)\n",
        "accuracies = []\n",
        "\n",
        "for k in k_values:\n",
        "    knn = KNeighborsClassifier(n_neighbors=k)\n",
        "    knn.fit(X_train, y_train)\n",
        "    y_pred = knn.predict(X_test)\n",
        "    accuracy = accuracy_score(y_test, y_pred)\n",
        "    accuracies.append(accuracy)\n",
        "\n",
        "plt.figure(figsize=(10, 6))\n",
        "plt.plot(k_values, accuracies, marker='o')\n",
        "plt.title('Залежність точності від кількості найближчих сусідів (k)')\n",
        "plt.xlabel('Кількість найближчих сусідів (k)')\n",
        "plt.ylabel('Точність')\n",
        "plt.grid(True)\n",
        "\n",
        "best_k = k_values[np.argmax(accuracies)]\n",
        "best_accuracy = max(accuracies)\n",
        "plt.scatter([best_k], [best_accuracy], color='red', s=200, label=f'Найкраще k = {best_k}')\n",
        "\n",
        "plt.legend()\n",
        "plt.tight_layout()\n",
        "plt.show()"
      ],
      "metadata": {
        "colab": {
          "base_uri": "https://localhost:8080/",
          "height": 607
        },
        "id": "d6O8MCkmeEQK",
        "outputId": "dfe30367-ef90-40a2-d86e-7f0cf70aef4b"
      },
      "execution_count": 17,
      "outputs": [
        {
          "output_type": "display_data",
          "data": {
            "text/plain": [
              "<Figure size 1000x600 with 1 Axes>"
            ],
            "image/png": "[encoded data removed]"
          },
          "metadata": {}
        }
      ]
    },
    {
      "cell_type": "markdown",
      "source": [
        "Зробимо кросс-валідацію на 3 блоках"
      ],
      "metadata": {
        "id": "eG3CZDniEhf3"
      }
    },
    {
      "cell_type": "code",
      "source": [
        "scores = cross_val_score(knn, X, Y, cv=3, scoring='accuracy')\n",
        "print(f\"Середня точність на кросс-валідації = {scores.mean()}, розкид = {scores.std()}\")"
      ],
      "metadata": {
        "colab": {
          "base_uri": "https://localhost:8080/"
        },
        "id": "oCd9PwdCDdwE",
        "outputId": "e206a95d-573a-4085-f51e-d55f49032a73"
      },
      "execution_count": null,
      "outputs": [
        {
          "output_type": "stream",
          "name": "stdout",
          "text": [
            "Середня точність на кросс-валідації = 0.999185128539843, розкид = 0.0007623921649886272\n"
          ]
        }
      ]
    },
    {
      "cell_type": "markdown",
      "source": [
        "Отже, ми з'ясували, що наша модель успішно класифікує дані з точністю, яка відповідає заданим критеріям :-)"
      ],
      "metadata": {
        "id": "8JVN9bQZEka8"
      }
    }
  ]
}